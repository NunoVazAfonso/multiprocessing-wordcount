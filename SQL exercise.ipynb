{
 "cells": [
  {
   "cell_type": "markdown",
   "id": "e5d2ca58",
   "metadata": {},
   "source": [
    "#### Prerequisites"
   ]
  },
  {
   "cell_type": "code",
   "execution_count": null,
   "id": "abb26f86",
   "metadata": {},
   "outputs": [],
   "source": [
    "!pip install psycopg2-binary"
   ]
  },
  {
   "cell_type": "code",
   "execution_count": null,
   "id": "e4b90584",
   "metadata": {},
   "outputs": [],
   "source": [
    "!pip install Faker"
   ]
  },
  {
   "cell_type": "code",
   "execution_count": 1,
   "id": "3419b6b4",
   "metadata": {},
   "outputs": [],
   "source": [
    "import pandas as pd"
   ]
  },
  {
   "cell_type": "code",
   "execution_count": 2,
   "id": "184fa6a2",
   "metadata": {},
   "outputs": [],
   "source": [
    "import psycopg2\n",
    "from psycopg2 import Error\n",
    "from psycopg2.extensions import ISOLATION_LEVEL_AUTOCOMMIT"
   ]
  },
  {
   "cell_type": "code",
   "execution_count": 6,
   "id": "d0b49d16",
   "metadata": {},
   "outputs": [],
   "source": [
    "from faker import Faker"
   ]
  },
  {
   "cell_type": "markdown",
   "id": "c06f1f7c",
   "metadata": {},
   "source": [
    "#### Establish Connection and create DB"
   ]
  },
  {
   "cell_type": "code",
   "execution_count": 19,
   "id": "bbfe25d6",
   "metadata": {},
   "outputs": [
    {
     "name": "stdout",
     "output_type": "stream",
     "text": [
      "Connected to Postgres\n"
     ]
    }
   ],
   "source": [
    "try:\n",
    "    connection = psycopg2.connect(user=\"postgres\",\n",
    "                                  password=\"postgres\",\n",
    "                                  host=\"postgres\",\n",
    "                                  port=\"5432\",\n",
    "                                 database=\"postgres\")\n",
    "\n",
    "    cursor = connection.cursor()\n",
    "    connection.set_isolation_level(ISOLATION_LEVEL_AUTOCOMMIT);\n",
    "    print( \"Connected to Postgres\" )\n",
    "except (Exception, Error) as error:\n",
    "    print(\"Connection error to Postgres \", error)"
   ]
  },
  {
   "cell_type": "code",
   "execution_count": 20,
   "id": "09b9db4d",
   "metadata": {},
   "outputs": [
    {
     "name": "stdout",
     "output_type": "stream",
     "text": [
      "Unable to create DB\n"
     ]
    }
   ],
   "source": [
    "try: \n",
    "    cursor.execute(\"CREATE DATABASE exercise_db\");\n",
    "    print(\"Query executed successfully\")\n",
    "except(Exception, Error):\n",
    "    print(\"Unable to create DB\")"
   ]
  },
  {
   "cell_type": "markdown",
   "id": "38c0cd7e",
   "metadata": {},
   "source": [
    "#### Common function to execute SQL statements"
   ]
  },
  {
   "cell_type": "code",
   "execution_count": 21,
   "id": "ce0b3c87",
   "metadata": {},
   "outputs": [],
   "source": [
    "def execute_sttmt( sql_sttmt ):\n",
    "    try: \n",
    "        cursor.execute(sql_sttmt);\n",
    "        print(\"Query executed successfully\")\n",
    "    except (Error) as error:\n",
    "        print(\"unable to execute query:\" , sql_sttmt)\n",
    "        print(error)"
   ]
  },
  {
   "cell_type": "code",
   "execution_count": 29,
   "id": "999b7685",
   "metadata": {},
   "outputs": [
    {
     "name": "stdout",
     "output_type": "stream",
     "text": [
      "Query executed successfully\n"
     ]
    }
   ],
   "source": [
    "#execute_sttmt(\"drop table patient_scores\")"
   ]
  },
  {
   "cell_type": "markdown",
   "id": "b87cfdef",
   "metadata": {},
   "source": [
    "#### Create exercise table"
   ]
  },
  {
   "cell_type": "code",
   "execution_count": 30,
   "id": "840d1666",
   "metadata": {},
   "outputs": [
    {
     "name": "stdout",
     "output_type": "stream",
     "text": [
      "Query executed successfully\n"
     ]
    }
   ],
   "source": [
    "create_table_sttmt = '''CREATE TABLE IF NOT EXISTS patient_scores(\n",
    "    id SERIAL,\n",
    "    patient_id INT NOT NULL,\n",
    "    scores JSON NOT NULL,\n",
    "    date DATE\n",
    ");'''\n",
    "\n",
    "execute_sttmt(create_table_sttmt)"
   ]
  },
  {
   "cell_type": "code",
   "execution_count": 24,
   "id": "f779e0cb",
   "metadata": {},
   "outputs": [],
   "source": [
    "insert_entry_sttmt = '''INSERT INTO patient_scores (patient_id, scores, date) VALUES ({},{},{})'''"
   ]
  },
  {
   "cell_type": "code",
   "execution_count": 36,
   "id": "297861cd",
   "metadata": {},
   "outputs": [],
   "source": [
    "\"\"\"\n",
    "Exercise default entries\n",
    "\"\"\"\n",
    "entries = [\n",
    "    [1323, '{\"satisfaction\": 9, \"pain\": 2, \"fatigue\": 2}', \"2020-06-25\"],\n",
    "    [9032, '{\"satisfaction\": 2, \"pain\": 7, \"fatigue\": 5}',\"2020-06-30\"],\n",
    "    [2331, '{\"satisfaction\": 7, \"pain\": 1, \"fatigue\": 1}',\"2020-07-05\"],\n",
    "    [2303, '{\"satisfaction\": 8, \"pain\": 9, \"fatigue\": 0}', \"2020-07-12\"],\n",
    "    [1323, '{\"satisfaction\": 10, \"pain\": 0, \"fatigue\": 0}' ,\"2020-07-09\"],\n",
    "    [2331, '{\"satisfaction\": 8, \"pain\": 9, \"fatigue\": 5}',\"2020-07-20\"]\n",
    "]"
   ]
  },
  {
   "cell_type": "code",
   "execution_count": 37,
   "id": "a307eaff",
   "metadata": {},
   "outputs": [
    {
     "data": {
      "text/plain": [
       "100"
      ]
     },
     "execution_count": 37,
     "metadata": {},
     "output_type": "execute_result"
    }
   ],
   "source": [
    "\"\"\"\n",
    "Generate random values with satisfaction starting at 6, \n",
    "just so everyone is not a detractor\n",
    "\"\"\"\n",
    "entries = []\n",
    "\n",
    "for _ in range(100):\n",
    "    fake_entry = [Faker().unique.random_int(), '{\"satisfaction\":'+str(Faker().unique.random_int(min=6, max=10, step=1))+' , \"pain\": '+str(Faker().unique.random_int(min=1, max=10, step=1))+', \"fatigue\": '+str(Faker().unique.random_int(min=1, max=10, step=1))+'}', Faker().date() ]\n",
    "    entries.append(fake_entry)\n",
    "    \n",
    "len(entries)    "
   ]
  },
  {
   "cell_type": "code",
   "execution_count": 38,
   "id": "5eff252f",
   "metadata": {
    "scrolled": true
   },
   "outputs": [
    {
     "name": "stdout",
     "output_type": "stream",
     "text": [
      "Query executed successfully\n",
      "Query executed successfully\n",
      "Query executed successfully\n",
      "Query executed successfully\n",
      "Query executed successfully\n",
      "Query executed successfully\n",
      "Query executed successfully\n",
      "Query executed successfully\n",
      "Query executed successfully\n",
      "Query executed successfully\n",
      "Query executed successfully\n",
      "Query executed successfully\n",
      "Query executed successfully\n",
      "Query executed successfully\n",
      "Query executed successfully\n",
      "Query executed successfully\n",
      "Query executed successfully\n",
      "Query executed successfully\n",
      "Query executed successfully\n",
      "Query executed successfully\n",
      "Query executed successfully\n",
      "Query executed successfully\n",
      "Query executed successfully\n",
      "Query executed successfully\n",
      "Query executed successfully\n",
      "Query executed successfully\n",
      "Query executed successfully\n",
      "Query executed successfully\n",
      "Query executed successfully\n",
      "Query executed successfully\n",
      "Query executed successfully\n",
      "Query executed successfully\n",
      "Query executed successfully\n",
      "Query executed successfully\n",
      "Query executed successfully\n",
      "Query executed successfully\n",
      "Query executed successfully\n",
      "Query executed successfully\n",
      "Query executed successfully\n",
      "Query executed successfully\n",
      "Query executed successfully\n",
      "Query executed successfully\n",
      "Query executed successfully\n",
      "Query executed successfully\n",
      "Query executed successfully\n",
      "Query executed successfully\n",
      "Query executed successfully\n",
      "Query executed successfully\n",
      "Query executed successfully\n",
      "Query executed successfully\n",
      "Query executed successfully\n",
      "Query executed successfully\n",
      "Query executed successfully\n",
      "Query executed successfully\n",
      "Query executed successfully\n",
      "Query executed successfully\n",
      "Query executed successfully\n",
      "Query executed successfully\n",
      "Query executed successfully\n",
      "Query executed successfully\n",
      "Query executed successfully\n",
      "Query executed successfully\n",
      "Query executed successfully\n",
      "Query executed successfully\n",
      "Query executed successfully\n",
      "Query executed successfully\n",
      "Query executed successfully\n",
      "Query executed successfully\n",
      "Query executed successfully\n",
      "Query executed successfully\n",
      "Query executed successfully\n",
      "Query executed successfully\n",
      "Query executed successfully\n",
      "Query executed successfully\n",
      "Query executed successfully\n",
      "Query executed successfully\n",
      "Query executed successfully\n",
      "Query executed successfully\n",
      "Query executed successfully\n",
      "Query executed successfully\n",
      "Query executed successfully\n",
      "Query executed successfully\n",
      "Query executed successfully\n",
      "Query executed successfully\n",
      "Query executed successfully\n",
      "Query executed successfully\n",
      "Query executed successfully\n",
      "Query executed successfully\n",
      "Query executed successfully\n",
      "Query executed successfully\n",
      "Query executed successfully\n",
      "Query executed successfully\n",
      "Query executed successfully\n",
      "Query executed successfully\n",
      "Query executed successfully\n",
      "Query executed successfully\n",
      "Query executed successfully\n",
      "Query executed successfully\n",
      "Query executed successfully\n",
      "Query executed successfully\n"
     ]
    }
   ],
   "source": [
    "for entry in entries:\n",
    "    execute_sttmt(insert_entry_sttmt.format( entry[0], \"'\" + entry[1] +\"'\" , \"'\" +entry[2]+\"'\" ))"
   ]
  },
  {
   "cell_type": "markdown",
   "id": "18bc5240",
   "metadata": {},
   "source": [
    "#### Create SQL query for NPS score\n",
    "(with pandas)"
   ]
  },
  {
   "cell_type": "code",
   "execution_count": 33,
   "id": "80bf2027",
   "metadata": {
    "scrolled": true
   },
   "outputs": [
    {
     "data": {
      "text/html": [
       "<div>\n",
       "<style scoped>\n",
       "    .dataframe tbody tr th:only-of-type {\n",
       "        vertical-align: middle;\n",
       "    }\n",
       "\n",
       "    .dataframe tbody tr th {\n",
       "        vertical-align: top;\n",
       "    }\n",
       "\n",
       "    .dataframe thead th {\n",
       "        text-align: right;\n",
       "    }\n",
       "</style>\n",
       "<table border=\"1\" class=\"dataframe\">\n",
       "  <thead>\n",
       "    <tr style=\"text-align: right;\">\n",
       "      <th></th>\n",
       "      <th>id</th>\n",
       "      <th>patient_id</th>\n",
       "      <th>scores</th>\n",
       "      <th>date</th>\n",
       "    </tr>\n",
       "  </thead>\n",
       "  <tbody>\n",
       "    <tr>\n",
       "      <th>0</th>\n",
       "      <td>1</td>\n",
       "      <td>4576</td>\n",
       "      <td>{'satisfaction': 9, 'pain': 9, 'fatigue': 3}</td>\n",
       "      <td>1989-09-20</td>\n",
       "    </tr>\n",
       "    <tr>\n",
       "      <th>1</th>\n",
       "      <td>2</td>\n",
       "      <td>1545</td>\n",
       "      <td>{'satisfaction': 8, 'pain': 1, 'fatigue': 9}</td>\n",
       "      <td>1994-12-26</td>\n",
       "    </tr>\n",
       "    <tr>\n",
       "      <th>2</th>\n",
       "      <td>3</td>\n",
       "      <td>4251</td>\n",
       "      <td>{'satisfaction': 10, 'pain': 1, 'fatigue': 10}</td>\n",
       "      <td>2015-03-24</td>\n",
       "    </tr>\n",
       "    <tr>\n",
       "      <th>3</th>\n",
       "      <td>4</td>\n",
       "      <td>4302</td>\n",
       "      <td>{'satisfaction': 10, 'pain': 5, 'fatigue': 5}</td>\n",
       "      <td>2017-09-15</td>\n",
       "    </tr>\n",
       "    <tr>\n",
       "      <th>4</th>\n",
       "      <td>5</td>\n",
       "      <td>3476</td>\n",
       "      <td>{'satisfaction': 10, 'pain': 3, 'fatigue': 2}</td>\n",
       "      <td>1971-03-31</td>\n",
       "    </tr>\n",
       "    <tr>\n",
       "      <th>...</th>\n",
       "      <td>...</td>\n",
       "      <td>...</td>\n",
       "      <td>...</td>\n",
       "      <td>...</td>\n",
       "    </tr>\n",
       "    <tr>\n",
       "      <th>95</th>\n",
       "      <td>96</td>\n",
       "      <td>8934</td>\n",
       "      <td>{'satisfaction': 10, 'pain': 10, 'fatigue': 9}</td>\n",
       "      <td>2021-05-08</td>\n",
       "    </tr>\n",
       "    <tr>\n",
       "      <th>96</th>\n",
       "      <td>97</td>\n",
       "      <td>9159</td>\n",
       "      <td>{'satisfaction': 10, 'pain': 2, 'fatigue': 8}</td>\n",
       "      <td>1991-10-14</td>\n",
       "    </tr>\n",
       "    <tr>\n",
       "      <th>97</th>\n",
       "      <td>98</td>\n",
       "      <td>521</td>\n",
       "      <td>{'satisfaction': 6, 'pain': 10, 'fatigue': 5}</td>\n",
       "      <td>1981-04-14</td>\n",
       "    </tr>\n",
       "    <tr>\n",
       "      <th>98</th>\n",
       "      <td>99</td>\n",
       "      <td>6747</td>\n",
       "      <td>{'satisfaction': 10, 'pain': 3, 'fatigue': 2}</td>\n",
       "      <td>1978-10-26</td>\n",
       "    </tr>\n",
       "    <tr>\n",
       "      <th>99</th>\n",
       "      <td>100</td>\n",
       "      <td>2548</td>\n",
       "      <td>{'satisfaction': 10, 'pain': 3, 'fatigue': 5}</td>\n",
       "      <td>2015-12-04</td>\n",
       "    </tr>\n",
       "  </tbody>\n",
       "</table>\n",
       "<p>100 rows × 4 columns</p>\n",
       "</div>"
      ],
      "text/plain": [
       "     id  patient_id                                          scores  \\\n",
       "0     1        4576    {'satisfaction': 9, 'pain': 9, 'fatigue': 3}   \n",
       "1     2        1545    {'satisfaction': 8, 'pain': 1, 'fatigue': 9}   \n",
       "2     3        4251  {'satisfaction': 10, 'pain': 1, 'fatigue': 10}   \n",
       "3     4        4302   {'satisfaction': 10, 'pain': 5, 'fatigue': 5}   \n",
       "4     5        3476   {'satisfaction': 10, 'pain': 3, 'fatigue': 2}   \n",
       "..  ...         ...                                             ...   \n",
       "95   96        8934  {'satisfaction': 10, 'pain': 10, 'fatigue': 9}   \n",
       "96   97        9159   {'satisfaction': 10, 'pain': 2, 'fatigue': 8}   \n",
       "97   98         521   {'satisfaction': 6, 'pain': 10, 'fatigue': 5}   \n",
       "98   99        6747   {'satisfaction': 10, 'pain': 3, 'fatigue': 2}   \n",
       "99  100        2548   {'satisfaction': 10, 'pain': 3, 'fatigue': 5}   \n",
       "\n",
       "          date  \n",
       "0   1989-09-20  \n",
       "1   1994-12-26  \n",
       "2   2015-03-24  \n",
       "3   2017-09-15  \n",
       "4   1971-03-31  \n",
       "..         ...  \n",
       "95  2021-05-08  \n",
       "96  1991-10-14  \n",
       "97  1981-04-14  \n",
       "98  1978-10-26  \n",
       "99  2015-12-04  \n",
       "\n",
       "[100 rows x 4 columns]"
      ]
     },
     "execution_count": 33,
     "metadata": {},
     "output_type": "execute_result"
    }
   ],
   "source": [
    "# check info on newly created table\n",
    "pd.read_sql_query(''' SELECT * FROM patient_scores''', connection)"
   ]
  },
  {
   "cell_type": "code",
   "execution_count": 34,
   "id": "82faa348",
   "metadata": {},
   "outputs": [
    {
     "data": {
      "text/html": [
       "<div>\n",
       "<style scoped>\n",
       "    .dataframe tbody tr th:only-of-type {\n",
       "        vertical-align: middle;\n",
       "    }\n",
       "\n",
       "    .dataframe tbody tr th {\n",
       "        vertical-align: top;\n",
       "    }\n",
       "\n",
       "    .dataframe thead th {\n",
       "        text-align: right;\n",
       "    }\n",
       "</style>\n",
       "<table border=\"1\" class=\"dataframe\">\n",
       "  <thead>\n",
       "    <tr style=\"text-align: right;\">\n",
       "      <th></th>\n",
       "      <th>satisfaction</th>\n",
       "      <th>is_detractor</th>\n",
       "      <th>is_promoter</th>\n",
       "      <th>month_name</th>\n",
       "    </tr>\n",
       "  </thead>\n",
       "  <tbody>\n",
       "    <tr>\n",
       "      <th>0</th>\n",
       "      <td>10</td>\n",
       "      <td>False</td>\n",
       "      <td>True</td>\n",
       "      <td>April</td>\n",
       "    </tr>\n",
       "    <tr>\n",
       "      <th>1</th>\n",
       "      <td>9</td>\n",
       "      <td>False</td>\n",
       "      <td>True</td>\n",
       "      <td>April</td>\n",
       "    </tr>\n",
       "    <tr>\n",
       "      <th>2</th>\n",
       "      <td>8</td>\n",
       "      <td>False</td>\n",
       "      <td>False</td>\n",
       "      <td>April</td>\n",
       "    </tr>\n",
       "    <tr>\n",
       "      <th>3</th>\n",
       "      <td>6</td>\n",
       "      <td>True</td>\n",
       "      <td>False</td>\n",
       "      <td>April</td>\n",
       "    </tr>\n",
       "    <tr>\n",
       "      <th>4</th>\n",
       "      <td>8</td>\n",
       "      <td>False</td>\n",
       "      <td>False</td>\n",
       "      <td>April</td>\n",
       "    </tr>\n",
       "    <tr>\n",
       "      <th>...</th>\n",
       "      <td>...</td>\n",
       "      <td>...</td>\n",
       "      <td>...</td>\n",
       "      <td>...</td>\n",
       "    </tr>\n",
       "    <tr>\n",
       "      <th>95</th>\n",
       "      <td>8</td>\n",
       "      <td>False</td>\n",
       "      <td>False</td>\n",
       "      <td>September</td>\n",
       "    </tr>\n",
       "    <tr>\n",
       "      <th>96</th>\n",
       "      <td>9</td>\n",
       "      <td>False</td>\n",
       "      <td>True</td>\n",
       "      <td>September</td>\n",
       "    </tr>\n",
       "    <tr>\n",
       "      <th>97</th>\n",
       "      <td>9</td>\n",
       "      <td>False</td>\n",
       "      <td>True</td>\n",
       "      <td>September</td>\n",
       "    </tr>\n",
       "    <tr>\n",
       "      <th>98</th>\n",
       "      <td>10</td>\n",
       "      <td>False</td>\n",
       "      <td>True</td>\n",
       "      <td>September</td>\n",
       "    </tr>\n",
       "    <tr>\n",
       "      <th>99</th>\n",
       "      <td>9</td>\n",
       "      <td>False</td>\n",
       "      <td>True</td>\n",
       "      <td>September</td>\n",
       "    </tr>\n",
       "  </tbody>\n",
       "</table>\n",
       "<p>100 rows × 4 columns</p>\n",
       "</div>"
      ],
      "text/plain": [
       "    satisfaction  is_detractor  is_promoter month_name\n",
       "0             10         False         True  April    \n",
       "1              9         False         True  April    \n",
       "2              8         False        False  April    \n",
       "3              6          True        False  April    \n",
       "4              8         False        False  April    \n",
       "..           ...           ...          ...        ...\n",
       "95             8         False        False  September\n",
       "96             9         False         True  September\n",
       "97             9         False         True  September\n",
       "98            10         False         True  September\n",
       "99             9         False         True  September\n",
       "\n",
       "[100 rows x 4 columns]"
      ]
     },
     "execution_count": 34,
     "metadata": {},
     "output_type": "execute_result"
    }
   ],
   "source": [
    "# let's see what each month looks like\n",
    "pd.read_sql_query('''         \n",
    "        SELECT (scores->>'satisfaction')::integer as satisfaction\n",
    "            , (scores->>'satisfaction')::integer < 7 as is_detractor\n",
    "            , (scores->>'satisfaction')::integer > 8 as is_promoter\n",
    "            , to_char(date,'Month') as month_name \n",
    "        FROM \n",
    "            patient_scores\n",
    "        ORDER BY \n",
    "            month_name ---just to see these together\n",
    "''', connection)"
   ]
  },
  {
   "cell_type": "code",
   "execution_count": 39,
   "id": "00ec83ec",
   "metadata": {},
   "outputs": [
    {
     "data": {
      "text/html": [
       "<div>\n",
       "<style scoped>\n",
       "    .dataframe tbody tr th:only-of-type {\n",
       "        vertical-align: middle;\n",
       "    }\n",
       "\n",
       "    .dataframe tbody tr th {\n",
       "        vertical-align: top;\n",
       "    }\n",
       "\n",
       "    .dataframe thead th {\n",
       "        text-align: right;\n",
       "    }\n",
       "</style>\n",
       "<table border=\"1\" class=\"dataframe\">\n",
       "  <thead>\n",
       "    <tr style=\"text-align: right;\">\n",
       "      <th></th>\n",
       "      <th>month_name</th>\n",
       "      <th>nps</th>\n",
       "    </tr>\n",
       "  </thead>\n",
       "  <tbody>\n",
       "    <tr>\n",
       "      <th>0</th>\n",
       "      <td>February</td>\n",
       "      <td>9.090909</td>\n",
       "    </tr>\n",
       "    <tr>\n",
       "      <th>1</th>\n",
       "      <td>November</td>\n",
       "      <td>25.000000</td>\n",
       "    </tr>\n",
       "    <tr>\n",
       "      <th>2</th>\n",
       "      <td>September</td>\n",
       "      <td>41.176471</td>\n",
       "    </tr>\n",
       "    <tr>\n",
       "      <th>3</th>\n",
       "      <td>August</td>\n",
       "      <td>39.130435</td>\n",
       "    </tr>\n",
       "    <tr>\n",
       "      <th>4</th>\n",
       "      <td>October</td>\n",
       "      <td>36.842105</td>\n",
       "    </tr>\n",
       "    <tr>\n",
       "      <th>5</th>\n",
       "      <td>December</td>\n",
       "      <td>-16.666667</td>\n",
       "    </tr>\n",
       "    <tr>\n",
       "      <th>6</th>\n",
       "      <td>June</td>\n",
       "      <td>27.777778</td>\n",
       "    </tr>\n",
       "    <tr>\n",
       "      <th>7</th>\n",
       "      <td>March</td>\n",
       "      <td>47.619048</td>\n",
       "    </tr>\n",
       "    <tr>\n",
       "      <th>8</th>\n",
       "      <td>July</td>\n",
       "      <td>-6.250000</td>\n",
       "    </tr>\n",
       "    <tr>\n",
       "      <th>9</th>\n",
       "      <td>January</td>\n",
       "      <td>-16.666667</td>\n",
       "    </tr>\n",
       "    <tr>\n",
       "      <th>10</th>\n",
       "      <td>May</td>\n",
       "      <td>58.823529</td>\n",
       "    </tr>\n",
       "    <tr>\n",
       "      <th>11</th>\n",
       "      <td>April</td>\n",
       "      <td>50.000000</td>\n",
       "    </tr>\n",
       "  </tbody>\n",
       "</table>\n",
       "</div>"
      ],
      "text/plain": [
       "   month_name        nps\n",
       "0   February    9.090909\n",
       "1   November   25.000000\n",
       "2   September  41.176471\n",
       "3   August     39.130435\n",
       "4   October    36.842105\n",
       "5   December  -16.666667\n",
       "6   June       27.777778\n",
       "7   March      47.619048\n",
       "8   July       -6.250000\n",
       "9   January   -16.666667\n",
       "10  May        58.823529\n",
       "11  April      50.000000"
      ]
     },
     "execution_count": 39,
     "metadata": {},
     "output_type": "execute_result"
    }
   ],
   "source": [
    "# execute aggregation to calculate NPS according to provided formula\n",
    "pd.read_sql_query('''\n",
    "    WITH calc_detract as (\n",
    "        SELECT (scores->>'satisfaction')::integer as satisfaction\n",
    "            , (scores->>'satisfaction')::integer < 7 as is_detractor\n",
    "            , (scores->>'satisfaction')::integer > 8 as is_promoter\n",
    "            , to_char(date,'Month') as month_name \n",
    "        FROM \n",
    "            patient_scores\n",
    "    ) \n",
    "    SELECT \n",
    "            month_name\n",
    "            --,COUNT(is_detractor OR NULL) AS detractors\n",
    "            --,COUNT(is_promoter OR NULL) AS promoters\n",
    "            --,COUNT(*) AS month_users\n",
    "            ,(COUNT(is_promoter OR NULL)-COUNT(is_detractor OR NULL))::numeric(2) / COUNT(1)::numeric(2) * 100 as NPS\n",
    "        FROM calc_detract\n",
    "        GROUP BY month_name\n",
    "''', connection)"
   ]
  },
  {
   "cell_type": "markdown",
   "id": "a952c46c",
   "metadata": {},
   "source": [
    "#### Close SQL connection"
   ]
  },
  {
   "cell_type": "code",
   "execution_count": null,
   "id": "e5ed1873",
   "metadata": {},
   "outputs": [],
   "source": [
    "# close postgres connection\n",
    "if connection:\n",
    "    cursor.close()\n",
    "    connection.close()\n",
    "    print(\"PostgreSQL connection is closed\")"
   ]
  }
 ],
 "metadata": {
  "kernelspec": {
   "display_name": "Python 3",
   "language": "python",
   "name": "python3"
  },
  "language_info": {
   "codemirror_mode": {
    "name": "ipython",
    "version": 3
   },
   "file_extension": ".py",
   "mimetype": "text/x-python",
   "name": "python",
   "nbconvert_exporter": "python",
   "pygments_lexer": "ipython3",
   "version": "3.9.2"
  }
 },
 "nbformat": 4,
 "nbformat_minor": 5
}
